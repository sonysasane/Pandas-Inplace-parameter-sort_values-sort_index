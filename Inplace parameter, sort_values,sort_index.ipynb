{
 "cells": [
  {
   "cell_type": "code",
   "execution_count": 14,
   "metadata": {},
   "outputs": [],
   "source": [
    "Month = [\"jan\",\"feb\",\"march\",\"apr\",\"may\",\"june\",\"jul\",\"aug\",\"sept\",\"oct\",\"nov\",\"dec\"]\n",
    "sales = [23,44,67,45,12,63,89,53,16,43,65,67]"
   ]
  },
  {
   "cell_type": "code",
   "execution_count": 15,
   "metadata": {},
   "outputs": [],
   "source": [
    "import pandas as pd"
   ]
  },
  {
   "cell_type": "code",
   "execution_count": 16,
   "metadata": {},
   "outputs": [],
   "source": [
    "s = pd.Series(data= sales, index = Month)"
   ]
  },
  {
   "cell_type": "code",
   "execution_count": 17,
   "metadata": {},
   "outputs": [
    {
     "data": {
      "text/plain": [
       "jan      23\n",
       "feb      44\n",
       "march    67\n",
       "apr      45\n",
       "may      12\n",
       "june     63\n",
       "jul      89\n",
       "aug      53\n",
       "sept     16\n",
       "oct      43\n",
       "nov      65\n",
       "dec      67\n",
       "dtype: int64"
      ]
     },
     "execution_count": 17,
     "metadata": {},
     "output_type": "execute_result"
    }
   ],
   "source": [
    "s"
   ]
  },
  {
   "cell_type": "code",
   "execution_count": 18,
   "metadata": {},
   "outputs": [],
   "source": [
    "# sorting value wise"
   ]
  },
  {
   "cell_type": "code",
   "execution_count": 19,
   "metadata": {},
   "outputs": [
    {
     "data": {
      "text/plain": [
       "may      12\n",
       "sept     16\n",
       "jan      23\n",
       "oct      43\n",
       "feb      44\n",
       "apr      45\n",
       "aug      53\n",
       "june     63\n",
       "nov      65\n",
       "march    67\n",
       "dec      67\n",
       "jul      89\n",
       "dtype: int64"
      ]
     },
     "execution_count": 19,
     "metadata": {},
     "output_type": "execute_result"
    }
   ],
   "source": [
    "s.sort_values()"
   ]
  },
  {
   "cell_type": "code",
   "execution_count": 20,
   "metadata": {},
   "outputs": [
    {
     "data": {
      "text/plain": [
       "jan      23\n",
       "feb      44\n",
       "march    67\n",
       "apr      45\n",
       "may      12\n",
       "june     63\n",
       "jul      89\n",
       "aug      53\n",
       "sept     16\n",
       "oct      43\n",
       "nov      65\n",
       "dec      67\n",
       "dtype: int64"
      ]
     },
     "execution_count": 20,
     "metadata": {},
     "output_type": "execute_result"
    }
   ],
   "source": [
    "s # original series is not affected if we want to do so use inplace parameter"
   ]
  },
  {
   "cell_type": "code",
   "execution_count": 23,
   "metadata": {},
   "outputs": [],
   "source": [
    "s.sort_values(inplace= True) # no need to assign to another variable while using inplace"
   ]
  },
  {
   "cell_type": "code",
   "execution_count": 24,
   "metadata": {},
   "outputs": [
    {
     "data": {
      "text/plain": [
       "may      12\n",
       "sept     16\n",
       "jan      23\n",
       "oct      43\n",
       "feb      44\n",
       "apr      45\n",
       "aug      53\n",
       "june     63\n",
       "nov      65\n",
       "march    67\n",
       "dec      67\n",
       "jul      89\n",
       "dtype: int64"
      ]
     },
     "execution_count": 24,
     "metadata": {},
     "output_type": "execute_result"
    }
   ],
   "source": [
    "s"
   ]
  },
  {
   "cell_type": "code",
   "execution_count": 26,
   "metadata": {},
   "outputs": [
    {
     "data": {
      "text/plain": [
       "apr      45\n",
       "aug      53\n",
       "dec      67\n",
       "feb      44\n",
       "jan      23\n",
       "jul      89\n",
       "june     63\n",
       "march    67\n",
       "may      12\n",
       "nov      65\n",
       "oct      43\n",
       "sept     16\n",
       "dtype: int64"
      ]
     },
     "execution_count": 26,
     "metadata": {},
     "output_type": "execute_result"
    }
   ],
   "source": [
    "s.sort_index()"
   ]
  },
  {
   "cell_type": "code",
   "execution_count": 27,
   "metadata": {},
   "outputs": [
    {
     "data": {
      "text/plain": [
       "sept     16\n",
       "oct      43\n",
       "nov      65\n",
       "may      12\n",
       "march    67\n",
       "june     63\n",
       "jul      89\n",
       "jan      23\n",
       "feb      44\n",
       "dec      67\n",
       "aug      53\n",
       "apr      45\n",
       "dtype: int64"
      ]
     },
     "execution_count": 27,
     "metadata": {},
     "output_type": "execute_result"
    }
   ],
   "source": [
    "s.sort_index(ascending= False)"
   ]
  },
  {
   "cell_type": "code",
   "execution_count": null,
   "metadata": {},
   "outputs": [],
   "source": []
  }
 ],
 "metadata": {
  "kernelspec": {
   "display_name": "Python 3",
   "language": "python",
   "name": "python3"
  },
  "language_info": {
   "codemirror_mode": {
    "name": "ipython",
    "version": 3
   },
   "file_extension": ".py",
   "mimetype": "text/x-python",
   "name": "python",
   "nbconvert_exporter": "python",
   "pygments_lexer": "ipython3",
   "version": "3.7.0"
  }
 },
 "nbformat": 4,
 "nbformat_minor": 2
}
